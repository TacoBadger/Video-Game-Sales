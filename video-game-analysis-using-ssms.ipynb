{
 "cells": [
  {
   "cell_type": "markdown",
   "id": "753a49b2",
   "metadata": {
    "papermill": {
     "duration": 0.01292,
     "end_time": "2022-06-10T11:16:14.848744",
     "exception": false,
     "start_time": "2022-06-10T11:16:14.835824",
     "status": "completed"
    },
    "tags": []
   },
   "source": [
    "# Video Game Sales\n",
    "![](https://github.com/TacoBadger/Video-Game-Sales/blob/main/dataset.png?raw=true)"
   ]
  },
  {
   "cell_type": "markdown",
   "id": "746bdaf7",
   "metadata": {
    "papermill": {
     "duration": 0.010711,
     "end_time": "2022-06-10T11:16:14.870476",
     "exception": false,
     "start_time": "2022-06-10T11:16:14.859765",
     "status": "completed"
    },
    "tags": []
   },
   "source": [
    "# Analysis of the Video Game Sales in Kaggle\n",
    "\n",
    "Worked with the dataset to find trends and patterns. This is a public data made available through Kaggle. Please do take note that this document is for practice purposes only and it does not include any marketing of the titles involved."
   ]
  },
  {
   "cell_type": "markdown",
   "id": "d3f819ab",
   "metadata": {
    "papermill": {
     "duration": 0.010611,
     "end_time": "2022-06-10T11:16:14.891711",
     "exception": false,
     "start_time": "2022-06-10T11:16:14.881100",
     "status": "completed"
    },
    "tags": []
   },
   "source": [
    "## Dataset\n",
    "We will manually upload the Dataset but you can also access the dataset in Kaggle.\n",
    "\n",
    "- [Video Game Analysis](https://www.kaggle.com/datasets/gregorut/videogamesales)"
   ]
  },
  {
   "cell_type": "markdown",
   "id": "27d2c0a9",
   "metadata": {
    "papermill": {
     "duration": 0.010951,
     "end_time": "2022-06-10T11:16:14.913151",
     "exception": false,
     "start_time": "2022-06-10T11:16:14.902200",
     "status": "completed"
    },
    "tags": []
   },
   "source": [
    "## Author\n",
    "- [@TacoBadger](https://github.com/TacoBadger)"
   ]
  },
  {
   "cell_type": "markdown",
   "id": "ba2be3b3",
   "metadata": {
    "papermill": {
     "duration": 0.008945,
     "end_time": "2022-06-10T11:16:14.931490",
     "exception": false,
     "start_time": "2022-06-10T11:16:14.922545",
     "status": "completed"
    },
    "tags": []
   },
   "source": [
    "## Methods\n",
    "- [Motivation](#motivation)\n",
    "- [Looking for trends and patterns](#looking-for-trends-and-patterns)\n",
    "- [Important Definitions](#important-definitions)\n",
    "- [Importing the dataset from Kaggle to see what tables we have in the dataset](#importing-the-dataset-from-kaggle-to-see-what-tables-we-have-in-the-dataset)\n",
    "- [Checking unique values and columns](#checking-unique-values-and-columns)\n",
    "- [Let's do some Data Analysis and Groupings](#lets-do-some-data-analysis-and-groupings)\n",
    "- [Extra Analysis](#extra-analysis)\n",
    "- [Our Query Run Order and Functions](#our-query-run-order-and-functions)\n",
    "- [Exporting the tables for Tableau](#exporting-the-tables-for-tableau)\n",
    "- [Key Findings](#key-findings)\n",
    "- [Explore our Tableau Public](#explore-our-tableau-public)\n",
    "- [Explore our Notebook](#explore-our-notebook)\n",
    "- [What is Next?](#what-is-next-?)"
   ]
  },
  {
   "cell_type": "markdown",
   "id": "0d2fb018",
   "metadata": {
    "papermill": {
     "duration": 0.009005,
     "end_time": "2022-06-10T11:16:14.949293",
     "exception": false,
     "start_time": "2022-06-10T11:16:14.940288",
     "status": "completed"
    },
    "tags": []
   },
   "source": [
    "## Motivation\n",
    "We will now use Microsoft SQL to practice my Data Analysis with this public dataset,again it is okay to work with just one tool but for us we will be practicing in different tools to expand our knowledge, it is not required but you can always choose yourself.\n",
    "\n",
    "This practice is done with the use of [Microsoft SQL Management Server](https://www.microsoft.com/en-us/sql-server/sql-server-downloads). Microsoft SQL Server is a relational database management system (RDBMS) that supports a wide variety of transaction\n",
    "\n",
    "We will also be practicing our [Tableau](https://public.tableau.com/en-us/s/) dashboard skills with this dataset."
   ]
  },
  {
   "cell_type": "markdown",
   "id": "e333b93f",
   "metadata": {
    "papermill": {
     "duration": 0.010072,
     "end_time": "2022-06-10T11:16:14.968422",
     "exception": false,
     "start_time": "2022-06-10T11:16:14.958350",
     "status": "completed"
    },
    "tags": []
   },
   "source": [
    "## Looking for trends and patterns\n",
    "So here the few things I want to know in this dataset:\n",
    "- The total production of genres.\n",
    "- The top selling games worldwide.\n",
    "- Top Companies to produce Games.\n",
    "- Games Released by Year.\n",
    "\n",
    "Extras:\n",
    "- Top selling games in North America, Europe, Japan and Other countries."
   ]
  },
  {
   "cell_type": "markdown",
   "id": "f506fb9d",
   "metadata": {
    "papermill": {
     "duration": 0.008948,
     "end_time": "2022-06-10T11:16:14.986188",
     "exception": false,
     "start_time": "2022-06-10T11:16:14.977240",
     "status": "completed"
    },
    "tags": []
   },
   "source": [
    "## Important Definitions\n",
    "**SQL Server**, often pronounced 'Sequel Server,' is not a bad sequel to an already bad movie. Far from it: It is a very powerful system that can be used in organizations of varying sizes, from small businesses to major corporations.\n",
    "\n",
    "SQL Server is Microsoft's relational database management system. The key operating word here is system; the system's function is to manage multiple databases. It also provides a suite of tools that help to build, change, and manage the data. Additionally, there are tools for report writing, data import/export, and data analysis tools.\n",
    "\n",
    "We will perform the following common queries:\n",
    "- sorting and filtering\n",
    "- creating tables for exporting in tableau\n",
    "- common queries for grouping\n",
    "\n",
    "**Tableau Public** is a free platform to explore, create and publicly share data visualizations online. With the largest repository of data visualizations in the world to learn from, Tableau Public makes developing data skills easy.\n",
    "\n",
    "Let's start with importing the dataset."
   ]
  },
  {
   "cell_type": "markdown",
   "id": "6508438f",
   "metadata": {
    "papermill": {
     "duration": 0.008927,
     "end_time": "2022-06-10T11:16:15.003959",
     "exception": false,
     "start_time": "2022-06-10T11:16:14.995032",
     "status": "completed"
    },
    "tags": []
   },
   "source": [
    "## Importing the dataset from Kaggle to see what tables we have in the dataset\n",
    "I always start of to downloading the [dataset](https://www.kaggle.com/datasets/gregorut/videogamesales)\n",
    "it will always appear as a zip file but you can extract and import it.\n",
    "\n",
    "I have mentioned we used Microsoft SQL for this one so here are the links to get started with that software and a small tutorial.\n",
    "- [Video tutorial](https://www.youtube.com/watch?v=NLhu4QvFPsU&list=PL3QIj0dCAeARFktUaoy1I4C3qvpeptSjK&index=2)\n",
    "- [SQL Management Server](https://docs.microsoft.com/en-us/sql/ssms/download-sql-server-management-studio-ssms?view=sql-server-ver15)\n",
    "- [Developer SQL Server 2019](https://www.microsoft.com/en-us/sql-server/sql-server-downloads)\n",
    "\n",
    "You can follow the tutorial to create your own database and import the file. I imported my file in a Database called ProjectDB by now you have checked the tutorial and you can now follow along.\n",
    "\n",
    "You might also encounter an error while importing the file. So after few hours of trying and researching, I have changed the appropriate datatype for each of the columns and dropped some the null values which is okay since we still have valuable data for our analysis.\n",
    "\n",
    "Data types in the vgsales dataset:\n",
    "- Rank - smallint\n",
    "- Name - nvarchar(MAX) - This is to make sure there is no limit of characters in names and same goes for other nvarchar(MAX) columns.\n",
    "- Platform - nvarchar(MAX)\n",
    "- Year - smallint\n",
    "- Genre - nvarchar(MAX)\n",
    "- Publisher - nvarchar(MAX)\n",
    "- NA_Sales - float\n",
    "- EU_Sales - float\n",
    "- JP_Sales - float\n",
    "- Other_Sales - float\n",
    "- Global_Sales - float\n",
    "\n",
    "It may show a warning that a few rows have been dropped but it is because some of the null rows have been dropped.\n",
    "Then you create your own database and follow the tutorial on how to import the file and follow this [tutorial](https://www.youtube.com/watch?v=0xINwDcFLSk&list=PL3QIj0dCAeARFktUaoy1I4C3qvpeptSjK&index=3) if you ever get stuck.\n",
    "\n",
    "Double check to make sure you have the same fields too, so you don't encounter any problems or errors too. \n",
    "\n",
    "As soon as you imported the data you can get an overview by doing the common query **SELECT** and **FROM**."
   ]
  },
  {
   "cell_type": "markdown",
   "id": "90615071",
   "metadata": {
    "papermill": {
     "duration": 0.017911,
     "end_time": "2022-06-10T11:16:15.030710",
     "exception": false,
     "start_time": "2022-06-10T11:16:15.012799",
     "status": "completed"
    },
    "tags": []
   },
   "source": [
    "I used my own database and imported it and now we can start to get an overview with simple query."
   ]
  },
  {
   "cell_type": "code",
   "execution_count": 1,
   "id": "453410b8",
   "metadata": {
    "execution": {
     "iopub.execute_input": "2022-06-10T11:16:15.055042Z",
     "iopub.status.busy": "2022-06-10T11:16:15.052885Z",
     "iopub.status.idle": "2022-06-10T11:16:15.194372Z",
     "shell.execute_reply": "2022-06-10T11:16:15.192416Z"
    },
    "papermill": {
     "duration": 0.157339,
     "end_time": "2022-06-10T11:16:15.197016",
     "exception": true,
     "start_time": "2022-06-10T11:16:15.039677",
     "status": "failed"
    },
    "tags": []
   },
   "outputs": [
    {
     "ename": "ERROR",
     "evalue": "Error in parse(text = x, srcfile = src): <text>:2:8: unexpected symbol\n1: # create your own database\n2: CREATE DATABASE\n          ^\n",
     "output_type": "error",
     "traceback": [
      "Error in parse(text = x, srcfile = src): <text>:2:8: unexpected symbol\n1: # create your own database\n2: CREATE DATABASE\n          ^\nTraceback:\n"
     ]
    }
   ],
   "source": [
    "# create your own database\n",
    "CREATE DATABASE ProjectDB\n",
    "\n",
    "# to use your own database\n",
    "use ProjectDB\n",
    "\n",
    "# inspecting the data\n",
    "select * from [dbo].[vgsales]"
   ]
  },
  {
   "cell_type": "markdown",
   "id": "fef5bdab",
   "metadata": {
    "papermill": {
     "duration": null,
     "end_time": null,
     "exception": null,
     "start_time": null,
     "status": "pending"
    },
    "tags": []
   },
   "source": [
    "The query will return 16,328 rows with 11 columns."
   ]
  },
  {
   "cell_type": "markdown",
   "id": "8c712803",
   "metadata": {
    "papermill": {
     "duration": null,
     "end_time": null,
     "exception": null,
     "start_time": null,
     "status": "pending"
    },
    "tags": []
   },
   "source": [
    "## Checking Unique columns and values\n",
    "Checking the rows columns for unique variables that can be really nice to plot.\n",
    "\n",
    "In this example we will select unique values and check columns we want to work with.\n",
    "\n",
    "The **SELECT DISTINCT** statement is used to return only distinct (different) values.\n",
    "\n",
    "Inside a table, a column often contains many duplicate values; and sometimes you only want to list the different (distinct) values."
   ]
  },
  {
   "cell_type": "code",
   "execution_count": null,
   "id": "f11ef663",
   "metadata": {
    "papermill": {
     "duration": null,
     "end_time": null,
     "exception": null,
     "start_time": null,
     "status": "pending"
    },
    "tags": []
   },
   "outputs": [],
   "source": [
    "select distinct Name from [dbo].[vgsales]\n",
    "\n",
    "# you should get 11,493 rows with the name of the games in the dataset"
   ]
  },
  {
   "cell_type": "code",
   "execution_count": null,
   "id": "3bb7cd85",
   "metadata": {
    "papermill": {
     "duration": null,
     "end_time": null,
     "exception": null,
     "start_time": null,
     "status": "pending"
    },
    "tags": []
   },
   "outputs": [],
   "source": [
    "select distinct Year from [dbo].[vgsales]\n",
    "\n",
    "# you will get 40 rows with one null, so we will remove the null with\n",
    "\n",
    "delete from [dbo].[vgsales] where Year IS NULL\n",
    "\n",
    "# you will get a total of 39 rows with years"
   ]
  },
  {
   "cell_type": "code",
   "execution_count": null,
   "id": "3e4b4520",
   "metadata": {
    "papermill": {
     "duration": null,
     "end_time": null,
     "exception": null,
     "start_time": null,
     "status": "pending"
    },
    "tags": []
   },
   "outputs": [],
   "source": [
    "select distinct Genre from [dbo].[vgsales]\n",
    "\n",
    "# 12 rows of genre"
   ]
  },
  {
   "cell_type": "code",
   "execution_count": null,
   "id": "c6e6ef4b",
   "metadata": {
    "papermill": {
     "duration": null,
     "end_time": null,
     "exception": null,
     "start_time": null,
     "status": "pending"
    },
    "tags": []
   },
   "outputs": [],
   "source": [
    "select distinct Publisher from [dbo].[vgsales]\n",
    "\n",
    "# 577 rows of publisher"
   ]
  },
  {
   "cell_type": "markdown",
   "id": "3f57aa92",
   "metadata": {
    "papermill": {
     "duration": null,
     "end_time": null,
     "exception": null,
     "start_time": null,
     "status": "pending"
    },
    "tags": []
   },
   "source": [
    "You can now get a better overview of the columns we need. The data is quite easy to work with and we can also get started with the analysis too."
   ]
  },
  {
   "cell_type": "markdown",
   "id": "01303b7e",
   "metadata": {
    "papermill": {
     "duration": null,
     "end_time": null,
     "exception": null,
     "start_time": null,
     "status": "pending"
    },
    "tags": []
   },
   "source": [
    "## Let's do some Data Analysis and Groupings\n",
    "Let's start grouping them by:\n",
    "- SALES\n",
    "- YEAR\n",
    "- GAMES\n",
    "- GENRE\n",
    "- COMPANIES\n",
    "\n",
    "Start with the most basic query with SELECT and FROM. In this analysis we will also use GROUP BY and COUNT.\n",
    "- COUNT(ALL expression) evaluates expression for each row in a group, and returns the number of nonnull values.\n",
    "- The GROUP BY clause is an optional clause of the SELECT statement. The GROUP BY clause a selected group of rows into summary rows by values of one or more columns. The GROUP BY clause returns one row for each group."
   ]
  },
  {
   "cell_type": "markdown",
   "id": "943cc3ff",
   "metadata": {
    "papermill": {
     "duration": null,
     "end_time": null,
     "exception": null,
     "start_time": null,
     "status": "pending"
    },
    "tags": []
   },
   "source": [
    "Let's start to group them by **\"Which genre has been produced the most?\"**"
   ]
  },
  {
   "cell_type": "code",
   "execution_count": null,
   "id": "8de24f83",
   "metadata": {
    "papermill": {
     "duration": null,
     "end_time": null,
     "exception": null,
     "start_time": null,
     "status": "pending"
    },
    "tags": []
   },
   "outputs": [],
   "source": [
    "select Genre, count(Genre) as Produced\n",
    "from [dbo].[vgsales]\n",
    "group by Genre\n",
    "order by 2 desc # the 2 in this order by means to order them by total counts of genres"
   ]
  },
  {
   "cell_type": "markdown",
   "id": "fb97266d",
   "metadata": {
    "papermill": {
     "duration": null,
     "end_time": null,
     "exception": null,
     "start_time": null,
     "status": "pending"
    },
    "tags": []
   },
   "source": [
    "This will show 12 rows with **action**** as the top genre **3,253** are classified as action games followed by **sports** with **2,305** games and the least to be **puzzle** with **571** games."
   ]
  },
  {
   "cell_type": "markdown",
   "id": "b3489cc2",
   "metadata": {
    "papermill": {
     "duration": null,
     "end_time": null,
     "exception": null,
     "start_time": null,
     "status": "pending"
    },
    "tags": []
   },
   "source": [
    "Then we wanted to group them by **\"Which year has the most game release?\"**"
   ]
  },
  {
   "cell_type": "code",
   "execution_count": null,
   "id": "030057d8",
   "metadata": {
    "papermill": {
     "duration": null,
     "end_time": null,
     "exception": null,
     "start_time": null,
     "status": "pending"
    },
    "tags": []
   },
   "outputs": [],
   "source": [
    "select Year, count(Global_Sales) as Total_Sales\n",
    "from [dbo].[vgsales]\n",
    "group by Year\n",
    "order by 2 desc"
   ]
  },
  {
   "cell_type": "markdown",
   "id": "b5794496",
   "metadata": {
    "papermill": {
     "duration": null,
     "end_time": null,
     "exception": null,
     "start_time": null,
     "status": "pending"
    },
    "tags": []
   },
   "source": [
    "This query will return 39 rows showing **2009** is the year with the most game released with a total of **1,431** games released in the public followed by **2008** with **1,428** games released. The year **2009** is the golder period of gamers."
   ]
  },
  {
   "cell_type": "markdown",
   "id": "ddcda681",
   "metadata": {
    "papermill": {
     "duration": null,
     "end_time": null,
     "exception": null,
     "start_time": null,
     "status": "pending"
    },
    "tags": []
   },
   "source": [
    "Then let's group the **top 20 companies to release the most games.**"
   ]
  },
  {
   "cell_type": "code",
   "execution_count": null,
   "id": "27632ee6",
   "metadata": {
    "papermill": {
     "duration": null,
     "end_time": null,
     "exception": null,
     "start_time": null,
     "status": "pending"
    },
    "tags": []
   },
   "outputs": [],
   "source": [
    "select TOP 20 Publisher, count(Name) as Games\n",
    "from [dbo].[vgsales]\n",
    "group by Publisher\n",
    "order by 2 desc"
   ]
  },
  {
   "cell_type": "markdown",
   "id": "8c267c6d",
   "metadata": {
    "papermill": {
     "duration": null,
     "end_time": null,
     "exception": null,
     "start_time": null,
     "status": "pending"
    },
    "tags": []
   },
   "source": [
    "The query will return 20 rows with **Electronic Arts** on top with **1,340** games produced, I do love their Sims game and it is quite known and famous! So no wonder Electronic Arts are on top followed by **Activision** with **966** games released and **Microsoft Game Studios** with the least games released."
   ]
  },
  {
   "cell_type": "markdown",
   "id": "66a8ef94",
   "metadata": {
    "papermill": {
     "duration": null,
     "end_time": null,
     "exception": null,
     "start_time": null,
     "status": "pending"
    },
    "tags": []
   },
   "source": [
    "Then lastly we wanted to group them by the **top 10 games most sold worldwide!**"
   ]
  },
  {
   "cell_type": "code",
   "execution_count": null,
   "id": "d1e4451f",
   "metadata": {
    "papermill": {
     "duration": null,
     "end_time": null,
     "exception": null,
     "start_time": null,
     "status": "pending"
    },
    "tags": []
   },
   "outputs": [],
   "source": [
    "select TOP 10 Name, sum(Global_Sales) as Global_Total\n",
    "from [dbo].[vgsales]\n",
    "group by Name\n",
    "order by 2 desc"
   ]
  },
  {
   "cell_type": "markdown",
   "id": "8607949c",
   "metadata": {
    "papermill": {
     "duration": null,
     "end_time": null,
     "exception": null,
     "start_time": null,
     "status": "pending"
    },
    "tags": []
   },
   "source": [
    "The query will return 10 rows with **Wii Sports** on top with sales about **8274 million!** I've also wanted to try wii sports rather than going to the gym! Followed by **Super Mario Bros** with **4531 million sales!** which is kind of really popular to twitch streamers and for multiplayers!"
   ]
  },
  {
   "cell_type": "markdown",
   "id": "a737bb17",
   "metadata": {
    "papermill": {
     "duration": null,
     "end_time": null,
     "exception": null,
     "start_time": null,
     "status": "pending"
    },
    "tags": []
   },
   "source": [
    "## Extra Analysis\n",
    "We will also use the same the queries for grouping based on sales in North America, Europe, Japan and Other countries."
   ]
  },
  {
   "cell_type": "markdown",
   "id": "3b05697b",
   "metadata": {
    "papermill": {
     "duration": null,
     "end_time": null,
     "exception": null,
     "start_time": null,
     "status": "pending"
    },
    "tags": []
   },
   "source": [
    "**Which top 10 games is the most sold in North America?**"
   ]
  },
  {
   "cell_type": "code",
   "execution_count": null,
   "id": "323317ec",
   "metadata": {
    "papermill": {
     "duration": null,
     "end_time": null,
     "exception": null,
     "start_time": null,
     "status": "pending"
    },
    "tags": []
   },
   "outputs": [],
   "source": [
    "select TOP 10 Name, sum(NA_Sales) as NA_Total\n",
    "from [dbo].[vgsales]\n",
    "group by Name\n",
    "order by 2 desc"
   ]
  },
  {
   "cell_type": "markdown",
   "id": "d1b8f74f",
   "metadata": {
    "papermill": {
     "duration": null,
     "end_time": null,
     "exception": null,
     "start_time": null,
     "status": "pending"
    },
    "tags": []
   },
   "source": [
    "The query will return 10 rows with again **Wii Sports** on the top with **4149 million sales** followed by **Super Mario Bros** with **2942 million sales.**"
   ]
  },
  {
   "cell_type": "markdown",
   "id": "62971686",
   "metadata": {
    "papermill": {
     "duration": null,
     "end_time": null,
     "exception": null,
     "start_time": null,
     "status": "pending"
    },
    "tags": []
   },
   "source": [
    "**Which top 10 games is the most sold in Japan?**"
   ]
  },
  {
   "cell_type": "code",
   "execution_count": null,
   "id": "a504690a",
   "metadata": {
    "papermill": {
     "duration": null,
     "end_time": null,
     "exception": null,
     "start_time": null,
     "status": "pending"
    },
    "tags": []
   },
   "outputs": [],
   "source": [
    "select TOP 10 Name, sum(JP_Sales) as JP_Total\n",
    "from [dbo].[vgsales]\n",
    "group by Name\n",
    "order by 2 desc"
   ]
  },
  {
   "cell_type": "markdown",
   "id": "f4b9ecbc",
   "metadata": {
    "papermill": {
     "duration": null,
     "end_time": null,
     "exception": null,
     "start_time": null,
     "status": "pending"
    },
    "tags": []
   },
   "source": [
    "The query will return 10 rows with again **Pokemon Red/Pokemon Blues** on the top with **1022 million sales** followed by **Super Mario Bros** with **696 million sales.**"
   ]
  },
  {
   "cell_type": "markdown",
   "id": "d1e38351",
   "metadata": {
    "papermill": {
     "duration": null,
     "end_time": null,
     "exception": null,
     "start_time": null,
     "status": "pending"
    },
    "tags": []
   },
   "source": [
    "**Which top 10 games is the most sold in Europe?**\n"
   ]
  },
  {
   "cell_type": "code",
   "execution_count": null,
   "id": "31ba353b",
   "metadata": {
    "papermill": {
     "duration": null,
     "end_time": null,
     "exception": null,
     "start_time": null,
     "status": "pending"
    },
    "tags": []
   },
   "outputs": [],
   "source": [
    "select TOP 10 Name, sum(EU_Sales) as EU_Total\n",
    "from [dbo].[vgsales]\n",
    "group by Name\n",
    "order by 2 desc\n"
   ]
  },
  {
   "cell_type": "markdown",
   "id": "a6b3ab1d",
   "metadata": {
    "papermill": {
     "duration": null,
     "end_time": null,
     "exception": null,
     "start_time": null,
     "status": "pending"
    },
    "tags": []
   },
   "source": [
    "The query will return 10 rows with again **Wii Sports** on the top with **2902 million sales** followed by **Grand Theft Auto V** with **2304 million sales.**"
   ]
  },
  {
   "cell_type": "markdown",
   "id": "5c254381",
   "metadata": {
    "papermill": {
     "duration": null,
     "end_time": null,
     "exception": null,
     "start_time": null,
     "status": "pending"
    },
    "tags": []
   },
   "source": [
    "**Which top 10 games is the most sold in Other Countries?**\n"
   ]
  },
  {
   "cell_type": "code",
   "execution_count": null,
   "id": "538586ee",
   "metadata": {
    "papermill": {
     "duration": null,
     "end_time": null,
     "exception": null,
     "start_time": null,
     "status": "pending"
    },
    "tags": []
   },
   "outputs": [],
   "source": [
    "select TOP 10 Name, sum(Other_Sales) as Other_Total\n",
    "from [dbo].[vgsales]\n",
    "group by Name\n",
    "order by 2 desc\n"
   ]
  },
  {
   "cell_type": "markdown",
   "id": "92f00a97",
   "metadata": {
    "papermill": {
     "duration": null,
     "end_time": null,
     "exception": null,
     "start_time": null,
     "status": "pending"
    },
    "tags": []
   },
   "source": [
    "The query will return 10 rows with **Grand Theft Auto: San Andreas** on the top with **1072 million sales** followed by **Wii Sports** with **846 million sales.** I guess some of the countries don't own a Wii."
   ]
  },
  {
   "cell_type": "markdown",
   "id": "48fdc71c",
   "metadata": {
    "papermill": {
     "duration": null,
     "end_time": null,
     "exception": null,
     "start_time": null,
     "status": "pending"
    },
    "tags": []
   },
   "source": [
    "## Our Query Run order and Functions\n",
    "Now that we are familiar with most of the functionalities being used in a query, it is very important to understand the order that code runs.\n",
    "\n",
    "We also used a few aggregate functions including all the functions mentioned below.\n",
    "\n",
    "An **aggregate function** performs a calculation on a set of values, and returns a single value. Except for COUNT(*) , aggregate functions ignore null values. Aggregate functions are often used with the GROUP BY clause of the SELECT statement.\n",
    "- SELECT\n",
    "- FROM\n",
    "- WHERE\n",
    "- GROUP BY\n",
    "- ORDER BY\n",
    "- SELECT TOP 10\n",
    "\n",
    "- Define which tables to use (FROM)\n",
    "- Keep only the rows that apply to the conditions (WHERE)\n",
    "- Group the data by the required level (if need) (GROUP BY)\n",
    "- Order the output of the new table (ORDER BY)\n",
    "- Limits the return of rows in the query (SELECT TOP 10)"
   ]
  },
  {
   "cell_type": "markdown",
   "id": "c4f59b9a",
   "metadata": {
    "papermill": {
     "duration": null,
     "end_time": null,
     "exception": null,
     "start_time": null,
     "status": "pending"
    },
    "tags": []
   },
   "source": [
    "## Exporting the tables for Tableau\n",
    "All the tables that I have grouped with in the SSMS will be exported for tableau visualizations. You can to by typing in the query and save as the results as a csv file."
   ]
  },
  {
   "cell_type": "markdown",
   "id": "d98d6e00",
   "metadata": {
    "papermill": {
     "duration": null,
     "end_time": null,
     "exception": null,
     "start_time": null,
     "status": "pending"
    },
    "tags": []
   },
   "source": [
    "## Key Findings\n",
    "1. **Action** was the most the most popular Genre it was produced **3,253** times from 19820-2021!\n",
    "2. The peak year where most games were released was **2009** with **1,431** games released in a single year. The golden period for gamers began at 2007 to 2010 but it started to fall slowly because hyptothetically this may have been affected by Covid-19 slowing down all production rates and it can also affect Global Sales.\n",
    "3. The top company to produce most games in the period of1982 to 2022 was **Electornic Arts** with a total of **1,351** games released to the public.\n",
    "4. And lastly! top sellings games were **Wii Sports which has 8,274 million sales and Super Mario Bros with 4,531 million sales.** This games are popular by streamers and people who love to play multiplayer games!\n",
    "\n",
    "Extras:\n",
    "1. North America - **Wii Sports** on the top with **4,149 million sales** followed by **Super Mario Bros** with **2,942 million sales.**\n",
    "2. Japan - **Pokemon Red/Pokemon Blue** on the top with **1,022 million sales** followed by **Super Mario Bros** with **696 million sales.**\n",
    "3. Europe - **Wii Sports** on the top with **2,902 million sales** followed by **Grand Theft Auto V** with **2,304 million sales.**\n",
    "4. Other Countries - **Grand Theft Auto: San Andreas** on the top with **1072 million sales** followed by **Wii Sports** with **846 million sales.**"
   ]
  },
  {
   "cell_type": "markdown",
   "id": "53ab913f",
   "metadata": {
    "papermill": {
     "duration": null,
     "end_time": null,
     "exception": null,
     "start_time": null,
     "status": "pending"
    },
    "tags": []
   },
   "source": [
    "## Explore our Tableau Public\n",
    "- [@TacoBadger](https://public.tableau.com/app/profile/taco.badger)\n",
    "\n",
    "## Explore our Notebook\n",
    "- [@TacoBadger](https://www.kaggle.com/cryptocosy)\n",
    "\n",
    "## What's next?\n",
    "We have finished our practice! It may be complicated at first but when you get to practice you might start understanding it a little better.\n",
    "- I could have also improved some of the groupings with better functions.\n",
    "- I could also practice more types of data charts or data visualizations in tableau by practicing how to relate some variables along with improving my dashboard a little more.\n",
    "- We can also practice more sales dataset with cryptocurrency datastets and other sales dataset to maximize using some of the grouping functions.\n",
    "\n",
    "Thank you for reading my kernel or repositories!"
   ]
  }
 ],
 "metadata": {
  "kernelspec": {
   "display_name": "R",
   "language": "R",
   "name": "ir"
  },
  "language_info": {
   "codemirror_mode": "r",
   "file_extension": ".r",
   "mimetype": "text/x-r-source",
   "name": "R",
   "pygments_lexer": "r",
   "version": "4.0.5"
  },
  "papermill": {
   "default_parameters": {},
   "duration": 4.661452,
   "end_time": "2022-06-10T11:16:15.327146",
   "environment_variables": {},
   "exception": true,
   "input_path": "__notebook__.ipynb",
   "output_path": "__notebook__.ipynb",
   "parameters": {},
   "start_time": "2022-06-10T11:16:10.665694",
   "version": "2.3.4"
  }
 },
 "nbformat": 4,
 "nbformat_minor": 5
}
